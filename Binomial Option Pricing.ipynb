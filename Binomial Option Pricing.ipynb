{
 "cells": [
  {
   "cell_type": "markdown",
   "metadata": {},
   "source": [
    "Binomial option pricing model is a risk-neutral model used to value path-dependent options such as **American** options.\n",
    "\n",
    "https://xplaind.com/552187/binomial-options-pricing-model"
   ]
  },
  {
   "cell_type": "code",
   "execution_count": 1,
   "metadata": {
    "ExecuteTime": {
     "end_time": "2019-09-05T17:05:18.608999Z",
     "start_time": "2019-09-05T17:05:14.053738Z"
    }
   },
   "outputs": [],
   "source": [
    "import pandas as pd\n",
    "import numpy as np\n",
    "\n",
    "import matplotlib.pyplot as plt\n",
    "import seaborn as sns\n",
    "\n",
    "sns.set_style('darkgrid')\n",
    "%matplotlib inline"
   ]
  },
  {
   "cell_type": "code",
   "execution_count": 2,
   "metadata": {
    "ExecuteTime": {
     "end_time": "2019-09-05T17:05:18.651001Z",
     "start_time": "2019-09-05T17:05:18.610999Z"
    }
   },
   "outputs": [],
   "source": [
    "def binom_tree_euro_value(N, T, S0, sigma, r, K, option_type='C'):\n",
    "    dt = T/N\n",
    "    \n",
    "    # factors you expect stock price to increase and decrease by\n",
    "    u = np.exp(sigma * np.sqrt(dt))\n",
    "    d = 1/u\n",
    "    \n",
    "    # probability of an up move\n",
    "    p = (np.exp(r * dt) - d) / (u-d)\n",
    "    \n",
    "    # price tree\n",
    "    price_tree = np.zeros([N+1, N+1])\n",
    "    \n",
    "    for i in range(N+1):\n",
    "        for j in range(i+1):\n",
    "            price_tree[j,i] = S0 * (d**j) * (u**(i-j))\n",
    "            \n",
    "    # option value t = N\n",
    "    option = np.zeros([N+1, N+1])\n",
    "    if option_type == 'C':\n",
    "        option[:, N] = np.maximum(np.zeros(N+1), price_tree[:, N]-K)\n",
    "    else:\n",
    "        option[:, N] = np.maximum(np.zeros(N+1), K-price_tree[:, N])\n",
    "        \n",
    "    # calculate option price at t=0\n",
    "    for i in range(N-1, -1, -1):\n",
    "        for j in range(i+1):\n",
    "            option[j, i] = np.exp(-r*dt) * (p*option[j, i+1]+(1-p)*option[j+1, i+1])\n",
    "            \n",
    "#     print(price_tree)\n",
    "    \n",
    "    return option[0][0]"
   ]
  },
  {
   "cell_type": "code",
   "execution_count": 3,
   "metadata": {
    "ExecuteTime": {
     "end_time": "2019-09-05T17:05:18.747006Z",
     "start_time": "2019-09-05T17:05:18.653001Z"
    }
   },
   "outputs": [
    {
     "name": "stdout",
     "output_type": "stream",
     "text": [
      "Call value = 6.78\n",
      "Put value = 1.91\n"
     ]
    }
   ],
   "source": [
    "call_val = binom_tree_euro_value(50, 1, 100, 0.1, 0.05, 100, 'C')\n",
    "print(f'Call value = {round(call_val, 2)}')\n",
    "\n",
    "put_val = binom_tree_euro_value(50, 1, 100, 0.1, 0.05, 100, 'P')\n",
    "print(f'Put value = {round(put_val, 2)}')"
   ]
  },
  {
   "cell_type": "code",
   "execution_count": 5,
   "metadata": {
    "ExecuteTime": {
     "end_time": "2019-09-05T17:05:50.127801Z",
     "start_time": "2019-09-05T17:05:43.084398Z"
    }
   },
   "outputs": [
    {
     "data": {
      "text/plain": [
       "Text(0.5, 1.0, 'Binomial Tree - Call Values')"
      ]
     },
     "execution_count": 5,
     "metadata": {},
     "output_type": "execute_result"
    },
    {
     "data": {
      "image/png": "[encoded data removed]",
      "text/plain": [
       "<Figure size 432x288 with 1 Axes>"
      ]
     },
     "metadata": {
      "needs_background": "light"
     },
     "output_type": "display_data"
    }
   ],
   "source": [
    "end = 250\n",
    "call_vals = [binom_tree_euro_value(num_steps, 1, 100, 0.1, 0.05, 100) for num_steps in range(2, end)]\n",
    "\n",
    "plt.plot(range(2,end), call_vals, color='b')\n",
    "plt.plot(range(2,end), [6.8]*(end-2), color='r', linestyle='dashed')\n",
    "plt.xlabel('# Steps')\n",
    "plt.title('Binomial Tree - Call Values')"
   ]
  },
  {
   "cell_type": "markdown",
   "metadata": {},
   "source": [
    "### American Options\n",
    "\n",
    "Trick is need to compare strict option value at every node for generated stock price, versus option value calculated from BT moving backwards. Pick the max."
   ]
  },
  {
   "cell_type": "code",
   "execution_count": 66,
   "metadata": {
    "ExecuteTime": {
     "end_time": "2019-09-05T17:19:17.345972Z",
     "start_time": "2019-09-05T17:19:17.333971Z"
    }
   },
   "outputs": [],
   "source": [
    "def binom_tree_amer_value(N, T, S0, sigma, r, K, option_type='C'):\n",
    "    dt = T/N\n",
    "    \n",
    "    # factors you expect stock price to increase and decrease by\n",
    "    u = np.exp(sigma * np.sqrt(dt))\n",
    "    d = 1/u\n",
    "    \n",
    "    # probability of an UP move\n",
    "    q = (np.exp(r * dt) - d) / (u-d)\n",
    "    \n",
    "    # price tree\n",
    "    price_tree = np.zeros([N+1, N+1])\n",
    "    \n",
    "    \n",
    "    # generate stock price tree\n",
    "    # same numbers, just different syntax than above\n",
    "    mu = np.arange(N + 1)\n",
    "    mu = np.resize(mu, (N + 1, N + 1))\n",
    "    md = np.transpose(mu)\n",
    "    mu = u ** (mu - md)\n",
    "    md = d ** md\n",
    "    S = S0 * mu * md # only concerned w/ upper triangle --> S = np.triu(S)\n",
    "        \n",
    "    # valuation arrays\n",
    "    if option_type == 'C':\n",
    "        inner_vals = np.maximum(0, S - K) # inner value mtx\n",
    "    else:\n",
    "        inner_vals = np.maximum(0, K - S)\n",
    "    \n",
    "    vals = inner_vals.copy() # value mtx\n",
    "    C = np.zeros((N+1, N+1)) # continuation vals\n",
    "    ex = np.zeros((N+1, N+1)) # exercise matrix\n",
    "        \n",
    "    z = 0\n",
    "    dr = np.exp(-r * T) # discount rate\n",
    "    for i in range(N-1, -1, -1):\n",
    "        # calculate option values by weighting the probability of:\n",
    "        # up move (q) and down move (1-q)\n",
    "        # vals[0:(N-z), i+1] --> up move b/c every row except last has up prob.\n",
    "        # vals[1:(N-z+1), i+1] --> up move b/c every row except first has down prob.\n",
    "        C[0:(N-z), i] = (q * vals[0:(N-z), i+1] + \\\n",
    "                         (1-q) * vals[1:(N-z+1), i+1]) * dr\n",
    "        \n",
    "        # select max of:\n",
    "        # (1) calc option value\n",
    "        # (2) strict option value of (S-K) from calc S value at the node\n",
    "        vals[0:(N-z), i] = np.where(inner_vals[0:(N-z), i] > C[0:(N-z), i],\n",
    "                                    inner_vals[0:(N-z), i],\n",
    "                                    C[0:(N-z), i]\n",
    "                                   )\n",
    "        # same thing, just 1's and 0's for exercising American option or not\n",
    "        ex[0:(N-z), i] = np.where(inner_vals[0:(N-z), i] > C[0:(N-z), i], 1, 0)\n",
    "        z += 1\n",
    "        \n",
    "    C[:, -1] = inner_vals[:, -1]\n",
    "\n",
    "    if option_type == 'P':\n",
    "        # where ex == 1, more optimal to exercise option than wait until expiration\n",
    "        # valuation at that date greater than BT calculated value\n",
    "        # for call option (w/ no dividends), ex = 0 always\n",
    "        print(np.triu(C))\n",
    "        print(np.triu(inner_vals))\n",
    "        print(ex)\n",
    "\n",
    "    return round(vals[0][0], 2)"
   ]
  },
  {
   "cell_type": "code",
   "execution_count": 67,
   "metadata": {
    "ExecuteTime": {
     "end_time": "2019-09-05T17:19:17.683991Z",
     "start_time": "2019-09-05T17:19:17.673990Z"
    }
   },
   "outputs": [
    {
     "name": "stdout",
     "output_type": "stream",
     "text": [
      "[[ 1.50813017  0.14095313  0.          0.        ]\n",
      " [ 0.          2.98801436  0.29322533  0.        ]\n",
      " [ 0.          0.          5.55199832  0.60999776]\n",
      " [ 0.          0.          0.         10.90348686]]\n",
      "[[ 0.          0.          0.          0.        ]\n",
      " [ 0.          0.60999776  0.          0.        ]\n",
      " [ 0.          0.          5.90527477  0.60999776]\n",
      " [ 0.          0.          0.         10.90348686]]\n",
      "[[0. 0. 0. 0.]\n",
      " [0. 0. 0. 0.]\n",
      " [0. 0. 1. 0.]\n",
      " [0. 0. 0. 0.]]\n"
     ]
    },
    {
     "data": {
      "text/plain": [
       "1.51"
      ]
     },
     "execution_count": 67,
     "metadata": {},
     "output_type": "execute_result"
    }
   ],
   "source": [
    "N = 3\n",
    "T = 1\n",
    "sigma = 0.1\n",
    "r = 0.01\n",
    "S0 = 100\n",
    "K = 95\n",
    "\n",
    "binom_tree_amer_value(N, T, S0, sigma, r, K, 'P')"
   ]
  },
  {
   "cell_type": "code",
   "execution_count": null,
   "metadata": {},
   "outputs": [],
   "source": []
  },
  {
   "cell_type": "code",
   "execution_count": null,
   "metadata": {},
   "outputs": [],
   "source": []
  }
 ],
 "metadata": {
  "kernelspec": {
   "display_name": "Python 3",
   "language": "python",
   "name": "python3"
  },
  "language_info": {
   "codemirror_mode": {
    "name": "ipython",
    "version": 3
   },
   "file_extension": ".py",
   "mimetype": "text/x-python",
   "name": "python",
   "nbconvert_exporter": "python",
   "pygments_lexer": "ipython3",
   "version": "3.7.3"
  }
 },
 "nbformat": 4,
 "nbformat_minor": 2
}
