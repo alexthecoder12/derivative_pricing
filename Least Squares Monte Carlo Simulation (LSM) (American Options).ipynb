{
 "cells": [
  {
   "cell_type": "code",
   "execution_count": 142,
   "metadata": {
    "ExecuteTime": {
     "end_time": "2019-09-09T16:42:49.005879Z",
     "start_time": "2019-09-09T16:42:48.990279Z"
    }
   },
   "outputs": [],
   "source": [
    "import math\n",
    "import numpy as np"
   ]
  },
  {
   "cell_type": "code",
   "execution_count": 143,
   "metadata": {
    "ExecuteTime": {
     "end_time": "2019-09-09T16:42:49.239879Z",
     "start_time": "2019-09-09T16:42:49.224279Z"
    }
   },
   "outputs": [],
   "source": [
    "np.random.seed(150000)"
   ]
  },
  {
   "cell_type": "code",
   "execution_count": 144,
   "metadata": {
    "ExecuteTime": {
     "end_time": "2019-09-09T16:42:49.676680Z",
     "start_time": "2019-09-09T16:42:49.661080Z"
    }
   },
   "outputs": [],
   "source": [
    "def generate_asset_price(S0, r, sigma, dt, rand):\n",
    "    '''\n",
    "    $S_{t} = S_{t-\\Delta t}e^{(r-(1/2)\\sigma^{2})\\Delta t+\\sigma\\sqrt{\\Delta t}z_{t}}$\n",
    "\n",
    "    t = ${\\Delta t, 2\\Delta t, ... T}$\n",
    "\n",
    "    $z_{t}$ = standard normally distributed random variables\n",
    "    '''\n",
    "    S = S0 * np.exp(np.cumsum((r - 0.5 * sigma ** 2) * dt \\\n",
    "                                 + sigma * math.sqrt(dt) * np.random.standard_normal((M + 1, I)), \n",
    "                                 axis=0))\n",
    "    S[0] = S0\n",
    "    \n",
    "    return S\n",
    "\n",
    "def put_payoff(S, K):\n",
    "    return np.maximum(K - S, 0)\n",
    "\n",
    "def call_payoff(S, K):\n",
    "    return np.maximum(S - K, 0)"
   ]
  },
  {
   "cell_type": "code",
   "execution_count": 145,
   "metadata": {
    "ExecuteTime": {
     "end_time": "2019-09-09T16:42:49.973080Z",
     "start_time": "2019-09-09T16:42:49.941880Z"
    }
   },
   "outputs": [],
   "source": [
    "#### Model Parameters ####\n",
    "S0 = 36.  # initial stock level\n",
    "K = 40.  # strike price\n",
    "T = 1.0  # time-to-maturity\n",
    "r = 0.06  # short rate\n",
    "sigma = 0.2  # volatility\n",
    "\n",
    "### Simulation Parameters ###\n",
    "I = 25000 # number of simulations\n",
    "M = 50 # number of time steps\n",
    "dt = T / M # time step\n",
    "df = math.exp(-r * dt) # discount factor"
   ]
  },
  {
   "cell_type": "code",
   "execution_count": 164,
   "metadata": {
    "ExecuteTime": {
     "end_time": "2019-09-09T16:51:07.391576Z",
     "start_time": "2019-09-09T16:51:07.250175Z"
    }
   },
   "outputs": [],
   "source": [
    "rand_arr = np.random.standard_normal((M, I)) # standard normal distribution\n",
    "S = generate_asset_price(S0, r, sigma, dt, rand_arr[t]) # (M,I) matrix\n",
    "payoff = put_payoff(S, K) # (M,I) matrix\n",
    "V = payoff[-1] # Present Value Vector (Initialization)"
   ]
  },
  {
   "cell_type": "code",
   "execution_count": 165,
   "metadata": {
    "ExecuteTime": {
     "end_time": "2019-09-09T16:52:10.619689Z",
     "start_time": "2019-09-09T16:52:10.385689Z"
    }
   },
   "outputs": [
    {
     "name": "stdout",
     "output_type": "stream",
     "text": [
      "American put option value 4.478\n"
     ]
    }
   ],
   "source": [
    "### American Option Valuation by Backwards Induction ###\n",
    "for t in range(M - 1, 0, -1):\n",
    "    # fit stock prices to call option values discounted one period (at time t)\n",
    "    # V is continously updated as you work backwards\n",
    "    reg_func = np.polyfit(x=S[t], y=V * df, deg=3)\n",
    "    \n",
    "    # evaluate the regression function to get the y-values (option values)\n",
    "    C = np.polyval(reg, S[t])\n",
    "    \n",
    "    # where the calculated payoff of max(K-S, 0) is greater than approximated value, exercise the option\n",
    "    # V is continously updated as you work backwards\n",
    "    V = np.where(payoff[t] > C, payoff[t], V * df)\n",
    "\n",
    "V0 = df * np.sum(V) / I  # LSM estimator - average of discounted values\n",
    "\n",
    "print (\"American put option value %5.3f\" % V0)"
   ]
  }
 ],
 "metadata": {
  "kernelspec": {
   "display_name": "Python 3",
   "language": "python",
   "name": "python3"
  },
  "language_info": {
   "codemirror_mode": {
    "name": "ipython",
    "version": 3
   },
   "file_extension": ".py",
   "mimetype": "text/x-python",
   "name": "python",
   "nbconvert_exporter": "python",
   "pygments_lexer": "ipython3",
   "version": "3.7.3"
  }
 },
 "nbformat": 4,
 "nbformat_minor": 2
}
