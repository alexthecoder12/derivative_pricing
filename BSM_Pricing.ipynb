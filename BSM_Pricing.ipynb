{
 "cells": [
  {
   "cell_type": "code",
   "execution_count": 14,
   "metadata": {
    "ExecuteTime": {
     "end_time": "2019-08-30T18:29:31.434296Z",
     "start_time": "2019-08-30T18:29:31.418696Z"
    }
   },
   "outputs": [],
   "source": [
    "import numpy as np\n",
    "import pandas as pd\n",
    "import matplotlib.pyplot as plt\n",
    "from scipy.stats import norm\n",
    "from scipy.optimize import minimize, fsolve\n",
    "from datetime import datetime\n",
    "\n",
    "%matplotlib inline"
   ]
  },
  {
   "cell_type": "code",
   "execution_count": 2,
   "metadata": {
    "ExecuteTime": {
     "end_time": "2019-08-30T18:19:42.050649Z",
     "start_time": "2019-08-30T18:19:42.035049Z"
    }
   },
   "outputs": [],
   "source": [
    "def d(St, K, t, T, r, q, sigma):\n",
    "    '''\n",
    "    d2 = d1 - sigma * np.sqrt(T-t)\n",
    "    '''\n",
    "    return (np.log(St/K) + (T-t) * (r - q + (sigma ** 2) * 0.5)) / (sigma * np.sqrt(T-t))\n",
    "\n",
    "def N(d):\n",
    "    '''\n",
    "    Standard normal cumulative distribution function.\n",
    "    e^{-qt} * N(d1) = delta of call option\n",
    "    e^{-qt} * (N(d1) - 1) = delta of put option\n",
    "    N(d2) = risk-neutral probability (S_T >= K) i.e. probability option expires ITM\n",
    "    '''\n",
    "    return norm.cdf(d)"
   ]
  },
  {
   "cell_type": "code",
   "execution_count": 3,
   "metadata": {
    "ExecuteTime": {
     "end_time": "2019-08-30T18:19:42.128649Z",
     "start_time": "2019-08-30T18:19:42.050649Z"
    }
   },
   "outputs": [],
   "source": [
    "def BSM_euro_call_value(St, K, t, T, r, q, sigma):\n",
    "    '''\n",
    "    Parameters\n",
    "    -------------\n",
    "    St: initial stock price\n",
    "    K: strike price\n",
    "    t: start date\n",
    "    T: maturity date\n",
    "    r: r_f\n",
    "    q: dividend yield\n",
    "    sigma: vol\n",
    "    '''\n",
    "    \n",
    "    d1 = d(St, K, t, T, r, q, sigma)\n",
    "    d2 = d1 - sigma * np.sqrt(T-t)\n",
    "    \n",
    "    return St * np.exp(-q * (T-t)) * N(d1) - K * np.exp(-r * (T-t)) * N(d2)"
   ]
  },
  {
   "cell_type": "code",
   "execution_count": 4,
   "metadata": {
    "ExecuteTime": {
     "end_time": "2019-08-30T18:19:42.192049Z",
     "start_time": "2019-08-30T18:19:42.129649Z"
    }
   },
   "outputs": [],
   "source": [
    "def BSM_euro_put_value(St, K, t, T, r, q, sigma):\n",
    "    '''\n",
    "    Parameters\n",
    "    -------------\n",
    "    St: initial stock price\n",
    "    K: strike price\n",
    "    t: start date\n",
    "    T: maturity date\n",
    "    r: r_f\n",
    "    q: dividend yield\n",
    "    sigma: vol\n",
    "    '''\n",
    "    \n",
    "    d1 = d(St, K, t, T, r, q, sigma)\n",
    "    d2 = d1 - sigma * np.sqrt(T-t)\n",
    "    \n",
    "    return K * np.exp(-r * (T-t)) * N(-d2) - St * np.exp(-q * (T-t)) * N(-d1)\n",
    "\n",
    "    # --- alternatively, put option value can be derived from call option value ---\n",
    "    # BSM_euro_call_value(St, K, t, T, r, q, sigma) - \\\n",
    "    # St * np.exp(-q * (T-t)) + np.exp(-r * (T-t)) * K"
   ]
  },
  {
   "cell_type": "code",
   "execution_count": 5,
   "metadata": {
    "ExecuteTime": {
     "end_time": "2019-08-30T18:19:42.255449Z",
     "start_time": "2019-08-30T18:19:42.192049Z"
    }
   },
   "outputs": [],
   "source": [
    "def vega(St, K, t, T, r, q, sigma):\n",
    "    d1 = d(St, K, t, T, r, q, sigma)\n",
    "    return norm.pdf(d1, 0.0, 1.0) * np.sqrt(T)"
   ]
  },
  {
   "cell_type": "code",
   "execution_count": 24,
   "metadata": {
    "ExecuteTime": {
     "end_time": "2019-08-30T18:30:35.418409Z",
     "start_time": "2019-08-30T18:30:35.402809Z"
    }
   },
   "outputs": [],
   "source": [
    "def imp_vol(St, K, t, T, r, q, option_val, sigma_est=0.5):\n",
    "        \n",
    "    def min_func(sigma_est):\n",
    "        C0 = BSM_euro_call_value(St, K, t, T, r, q, sigma_est)\n",
    "        return abs(C0 - option_val)\n",
    "    \n",
    "    return fsolve(min_func, x0=sigma_est)[0]"
   ]
  },
  {
   "cell_type": "code",
   "execution_count": 25,
   "metadata": {
    "ExecuteTime": {
     "end_time": "2019-08-30T18:30:35.683610Z",
     "start_time": "2019-08-30T18:30:35.668010Z"
    }
   },
   "outputs": [],
   "source": [
    "St = 100.0   # index level\n",
    "K = 100.0    # option strike\n",
    "t = 0.0      # valuation date\n",
    "T = 1.0      # maturity date\n",
    "r = 0.05     # risk-less short rate\n",
    "q = 0.02     # dividend yield\n",
    "sigma = 0.2  # volatility"
   ]
  },
  {
   "cell_type": "code",
   "execution_count": 26,
   "metadata": {
    "ExecuteTime": {
     "end_time": "2019-08-30T18:30:36.042411Z",
     "start_time": "2019-08-30T18:30:36.011211Z"
    }
   },
   "outputs": [
    {
     "name": "stdout",
     "output_type": "stream",
     "text": [
      "Call value: 9.227005508154036\n",
      "Implied Vol: 0.19928745938902975\n"
     ]
    }
   ],
   "source": [
    "call_val = BSM_euro_call_value(St, K, t, T, r, q, sigma)\n",
    "impl_vol = imp_vol(St, K, t, T, r, q, 9.2)\n",
    "\n",
    "print('Call value: {}\\nImplied Vol: {}'.format(call_val, impl_vol))"
   ]
  },
  {
   "cell_type": "markdown",
   "metadata": {},
   "source": [
    "## Call and Put Option Values (Across Various Stock Prices)"
   ]
  },
  {
   "cell_type": "code",
   "execution_count": 9,
   "metadata": {
    "ExecuteTime": {
     "end_time": "2019-08-30T18:19:42.770250Z",
     "start_time": "2019-08-30T18:19:42.520650Z"
    }
   },
   "outputs": [
    {
     "data": {
      "text/plain": [
       "<matplotlib.legend.Legend at 0x9985390>"
      ]
     },
     "execution_count": 9,
     "metadata": {},
     "output_type": "execute_result"
    },
    {
     "data": {
      "image/png": "[encoded data removed]",
      "text/plain": [
       "<Figure size 432x288 with 1 Axes>"
      ]
     },
     "metadata": {
      "needs_background": "light"
     },
     "output_type": "display_data"
    }
   ],
   "source": [
    "stock_prices = np.arange(80, 120)\n",
    "call_values = []\n",
    "terminal_call_values = []\n",
    "for St in stock_prices:\n",
    "    call_values.append(BSM_euro_call_value(St, K, t, T, r, q, sigma))\n",
    "    terminal_call_values.append(max(St-K, 0))\n",
    "    \n",
    "plt.plot(stock_prices, call_values, color='b', label='PV')\n",
    "plt.plot(stock_prices, terminal_call_values, color='r', label='inner value')\n",
    "plt.xlabel('Stock Prices')\n",
    "plt.ylabel('Option Value')\n",
    "plt.title('Call Option')\n",
    "plt.legend()"
   ]
  },
  {
   "cell_type": "code",
   "execution_count": 10,
   "metadata": {
    "ExecuteTime": {
     "end_time": "2019-08-30T18:19:42.973050Z",
     "start_time": "2019-08-30T18:19:42.770250Z"
    }
   },
   "outputs": [
    {
     "data": {
      "text/plain": [
       "<matplotlib.legend.Legend at 0x9a57da0>"
      ]
     },
     "execution_count": 10,
     "metadata": {},
     "output_type": "execute_result"
    },
    {
     "data": {
      "image/png": "[encoded data removed]",
      "text/plain": [
       "<Figure size 432x288 with 1 Axes>"
      ]
     },
     "metadata": {
      "needs_background": "light"
     },
     "output_type": "display_data"
    }
   ],
   "source": [
    "stock_prices = np.arange(80, 120)\n",
    "put_values = []\n",
    "terminal_put_values = []\n",
    "for St in stock_prices:\n",
    "    put_values.append(BSM_euro_put_value(St, K, t, T, r, q, sigma))\n",
    "    terminal_put_values.append(max(K-St, 0))\n",
    "    \n",
    "plt.plot(stock_prices, put_values, color='b', label='PV')\n",
    "plt.plot(stock_prices, terminal_put_values, color='r', label='inner value')\n",
    "plt.xlabel('Stock Prices')\n",
    "plt.ylabel('Option Value')\n",
    "plt.title('Put Option')\n",
    "plt.legend()"
   ]
  }
 ],
 "metadata": {
  "kernelspec": {
   "display_name": "Python 3",
   "language": "python",
   "name": "python3"
  },
  "language_info": {
   "codemirror_mode": {
    "name": "ipython",
    "version": 3
   },
   "file_extension": ".py",
   "mimetype": "text/x-python",
   "name": "python",
   "nbconvert_exporter": "python",
   "pygments_lexer": "ipython3",
   "version": "3.7.3"
  }
 },
 "nbformat": 4,
 "nbformat_minor": 2
}
